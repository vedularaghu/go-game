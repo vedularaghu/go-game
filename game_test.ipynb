{
 "cells": [
  {
   "cell_type": "code",
   "execution_count": 2975,
   "metadata": {},
   "outputs": [],
   "source": [
    "import collections\n",
    "import sys\n",
    "import itertools as it\n",
    "from itertools import product\n",
    "from copy import deepcopy\n",
    "import numpy as np\n",
    "import operator"
   ]
  },
  {
   "cell_type": "code",
   "execution_count": 2976,
   "metadata": {},
   "outputs": [],
   "source": [
    "f = open(\"./output.txt\", \"w\")\n",
    "old_board = []\n",
    "new_board = []\n",
    "with open(\"./input.txt\", 'r') as f:\n",
    "    lines = f.readlines()\n",
    "    me = int(lines[0])\n",
    "    old_board = [[int(i) for i in line.rstrip('\\n')] for line in lines[1:6]]\n",
    "    curr_board = [[int(i) for i in line.rstrip('\\n')] for line in lines[6:11]]\n",
    "liberty = np.array(np.ones([5,5]))\n",
    "maximum = 99999\n",
    "minimum = -99999"
   ]
  },
  {
   "cell_type": "code",
   "execution_count": 2977,
   "metadata": {},
   "outputs": [
    {
     "data": {
      "text/plain": [
       "[[2, 0, 0, 0, 2],\n",
       " [0, 2, 2, 2, 0],\n",
       " [2, 0, 2, 1, 1],\n",
       " [1, 2, 0, 2, 1],\n",
       " [0, 2, 2, 1, 0]]"
      ]
     },
     "execution_count": 2977,
     "metadata": {},
     "output_type": "execute_result"
    }
   ],
   "source": [
    "old_board"
   ]
  },
  {
   "cell_type": "code",
   "execution_count": 2978,
   "metadata": {},
   "outputs": [
    {
     "data": {
      "text/plain": [
       "[[1, 0, 1, 0, 1],\n",
       " [1, 1, 1, 1, 0],\n",
       " [0, 2, 1, 2, 2],\n",
       " [2, 2, 2, 1, 0],\n",
       " [2, 2, 2, 2, 2]]"
      ]
     },
     "execution_count": 2978,
     "metadata": {},
     "output_type": "execute_result"
    }
   ],
   "source": [
    "curr_board"
   ]
  },
  {
   "cell_type": "code",
   "execution_count": 2979,
   "metadata": {},
   "outputs": [
    {
     "data": {
      "text/plain": [
       "1"
      ]
     },
     "execution_count": 2979,
     "metadata": {},
     "output_type": "execute_result"
    }
   ],
   "source": [
    "me"
   ]
  },
  {
   "cell_type": "code",
   "execution_count": 2980,
   "metadata": {},
   "outputs": [],
   "source": [
    "my_dead = []\n",
    "for i in range(5):\n",
    "    for j in range(5):\n",
    "        if old_board[i][j] == me and curr_board[i][j] == 0:\n",
    "            my_dead.append((i, j))"
   ]
  },
  {
   "cell_type": "code",
   "execution_count": 2981,
   "metadata": {},
   "outputs": [],
   "source": [
    "def calc_score(piece, board):\n",
    "    score = 0\n",
    "    for i in range(5):\n",
    "        for j in range(5):\n",
    "            if board[i][j] == piece:\n",
    "                score += 1\n",
    "    if piece == 1: return score\n",
    "    else: return score+2.5"
   ]
  },
  {
   "cell_type": "code",
   "execution_count": 2982,
   "metadata": {},
   "outputs": [],
   "source": [
    "def compare(board1, board2):\n",
    "    \n",
    "    for i in range(5):\n",
    "        for j in range(5):\n",
    "            if board1[i][j] != board2[i][j]:\n",
    "                return False\n",
    "    return True"
   ]
  },
  {
   "cell_type": "code",
   "execution_count": 2983,
   "metadata": {},
   "outputs": [],
   "source": [
    "def find_next_pieces(i, j):\n",
    "        next_pieces = []\n",
    "        if i > 0: next_pieces.append((i-1, j))\n",
    "        if i < 4: next_pieces.append((i+1, j))\n",
    "        if j > 0: next_pieces.append((i, j-1))\n",
    "        if j < 4: next_pieces.append((i, j+1))\n",
    "        return next_pieces"
   ]
  },
  {
   "cell_type": "code",
   "execution_count": 2984,
   "metadata": {},
   "outputs": [],
   "source": [
    "def find_next_same_piece(i, j, board):\n",
    "    next_pieces = find_next_pieces(i, j)\n",
    "    allies = []\n",
    "    for mp in next_pieces:\n",
    "        if curr_board[mp[0]][mp[1]] == board[i][j]:\n",
    "            allies.append(mp)\n",
    "    return allies"
   ]
  },
  {
   "cell_type": "code",
   "execution_count": 2985,
   "metadata": {},
   "outputs": [],
   "source": [
    "def neighbor_check(i, j, board):\n",
    "    board_search = [(i, j)]\n",
    "    my_pieces = []        \n",
    "    while board_search:\n",
    "        piece = board_search.pop()\n",
    "        my_pieces.append(piece)\n",
    "        next_own_pieces = find_next_same_piece(piece[0], piece[1], board)\n",
    "        for mypiece in next_own_pieces:\n",
    "            if mypiece not in board_search and mypiece not in my_pieces:\n",
    "                board_search.append(mypiece)\n",
    "    return my_pieces"
   ]
  },
  {
   "cell_type": "code",
   "execution_count": 2986,
   "metadata": {},
   "outputs": [],
   "source": [
    "def check_liberty(i, j, board):\n",
    "    same_piece = neighbor_check(i, j, board)\n",
    "    for sp in same_piece:\n",
    "        next_piece = find_next_pieces(sp[0], sp[1])\n",
    "        for p in next_piece:\n",
    "            if board[p[0]][p[1]] == 0:\n",
    "                return True\n",
    "    return False"
   ]
  },
  {
   "cell_type": "code",
   "execution_count": 2987,
   "metadata": {},
   "outputs": [],
   "source": [
    "def attacking_move(i, j, board):\n",
    "    board[i][j] = me\n",
    "    dead = []\n",
    "    for a in range(5):\n",
    "        for b in range(5):\n",
    "            if board[a][b] == 3-me: \n",
    "                if not check_liberty(a, b, board):\n",
    "                    dead.append((a,b))\n",
    "    return dead "
   ]
  },
  {
   "cell_type": "code",
   "execution_count": 2988,
   "metadata": {},
   "outputs": [],
   "source": [
    "def find_dead(board, piece):\n",
    "    dead_pieces = []\n",
    "    for i in range(5):\n",
    "        for j in range(5):\n",
    "            if board[i][j] == piece:\n",
    "                if not check_liberty(i, j, board):\n",
    "                    dead_pieces.append((i, j))\n",
    "    return dead_pieces"
   ]
  },
  {
   "cell_type": "code",
   "execution_count": 2989,
   "metadata": {},
   "outputs": [],
   "source": [
    "def find_dead(board, piece):\n",
    "    dead_pieces = []\n",
    "    for i in range(5):\n",
    "        for j in range(5):\n",
    "            if board[i][j] == piece:\n",
    "                if not check_liberty(i, j, board):\n",
    "                    dead_pieces.append((i, j))\n",
    "    return dead_pieces"
   ]
  },
  {
   "cell_type": "code",
   "execution_count": 2990,
   "metadata": {},
   "outputs": [],
   "source": [
    "def remove_dead_pieces(board, piece):\n",
    "    dead_pieces = find_dead(board, piece)\n",
    "    if not dead_pieces:\n",
    "        return [], board\n",
    "    for p in dead_pieces:\n",
    "        board[p[0]][p[1]] = 0\n",
    "        \n",
    "    return dead_pieces, board"
   ]
  },
  {
   "cell_type": "code",
   "execution_count": 2991,
   "metadata": {},
   "outputs": [],
   "source": [
    "def KO_move(board):\n",
    "    test2 = deepcopy(board)\n",
    "    pieces, board1 = remove_dead_pieces(test2, 3-me)\n",
    "    if pieces and compare(board1, old_board):\n",
    "        return True\n",
    "    else: return False"
   ]
  },
  {
   "cell_type": "code",
   "execution_count": 2992,
   "metadata": {},
   "outputs": [],
   "source": [
    "# def suicide_move(i, j, board):\n",
    "# #     board[i][j] = me\n",
    "# #     for a in range(5):\n",
    "# #         for b in range(5):\n",
    "# #             if board[a][b] == me:\n",
    "# #                 if not check_liberty(a, b, board):\n",
    "# #                     return True\n",
    "#     board[i][j] = me\n",
    "#     neighbors = find_next_pieces(i, j)\n",
    "#     for n in neighbors:\n",
    "#         if board[n[0]][n[1]] == 0:\n",
    "#             board[n[0]][n[1]] = 3-me\n",
    "#             if not check_liberty(i, j, board):\n",
    "#                 print(i, j)\n"
   ]
  },
  {
   "cell_type": "code",
   "execution_count": 2993,
   "metadata": {},
   "outputs": [],
   "source": [
    "# test = deepcopy(curr_board)\n",
    "# for i in range(5):\n",
    "#     for j in range(5):\n",
    "#         suicide_move(i, j, test)            "
   ]
  },
  {
   "cell_type": "code",
   "execution_count": 2994,
   "metadata": {},
   "outputs": [],
   "source": [
    "def liberty_moves(valid, board):\n",
    "    libertylist = {}\n",
    "    for i in range(5):\n",
    "        for j in range(5):\n",
    "            if (i, j) in valid:\n",
    "                c = 0\n",
    "                np = find_next_pieces(i, j)\n",
    "                for p in np:\n",
    "                    if board[p[0]][p[1]] == 0:\n",
    "                            c += 1\n",
    "                libertylist[(i,j)] = c\n",
    "    return libertylist"
   ]
  },
  {
   "cell_type": "code",
   "execution_count": 2995,
   "metadata": {},
   "outputs": [],
   "source": [
    "def valid_moves(i, j, piece):\n",
    "    test = deepcopy(curr_board)\n",
    "    test[i][j] = me\n",
    "    \n",
    "    if not check_liberty(i, j, test):\n",
    "        return False\n",
    "    \n",
    "    if KO_move(test):\n",
    "        return False\n",
    "    \n",
    "    return True  "
   ]
  },
  {
   "cell_type": "code",
   "execution_count": 2996,
   "metadata": {},
   "outputs": [],
   "source": [
    "def calculate_liberty(test):     \n",
    "    attacking_list = {}\n",
    "    suicide_list = []\n",
    "    invalid_moves = []\n",
    "    defensive_list = {}\n",
    "    valid = []\n",
    "    for i in range(5):\n",
    "        for j in range(5):\n",
    "            if test[i][j] == 0:\n",
    "                if valid_moves(i, j, me):\n",
    "                    valid.append((i, j))\n",
    "    l = liberty_moves(valid, test)\n",
    "    liberty_list = dict( sorted(l.items(), key=operator.itemgetter(1),reverse=True))\n",
    "    for i in range(5):\n",
    "        for j in range(5):\n",
    "            if test[i][j] == 0:\n",
    "                test = deepcopy(curr_board)\n",
    "                al = attacking_move(i, j, test)\n",
    "                dl = defensive_move(i, j, test)\n",
    "                if len(al) > 0:\n",
    "                    attacking_list[(i, j)] = len(al)*10\n",
    "                    attacking_list = dict( sorted(attacking_list.items(), key=operator.itemgetter(1),reverse=True))              \n",
    "                if len(dl) > 0:\n",
    "                    defensive_list[(i, j)] = len(dl)*10\n",
    "                    defensive_list = dict( sorted(defensive_list.items(), key=operator.itemgetter(1),reverse=True))\n",
    "    return attacking_list, defensive_list, liberty_list, valid"
   ]
  },
  {
   "cell_type": "code",
   "execution_count": 3010,
   "metadata": {},
   "outputs": [
    {
     "name": "stdout",
     "output_type": "stream",
     "text": [
      "{}\n",
      "{}\n",
      "{(0, 1): 0, (0, 3): 0, (1, 4): 0, (2, 0): 0}\n",
      "[(0, 1), (0, 3), (1, 4), (2, 0)]\n"
     ]
    }
   ],
   "source": [
    "test = deepcopy(curr_board)\n",
    "defensive_list = {}\n",
    "attacking_list = {}\n",
    "al, dl, liberty_list, valid_list = calculate_liberty(test)\n",
    "for key in al.keys():\n",
    "    test1 = deepcopy(curr_board)\n",
    "    test1[key[0]][key[1]] = me\n",
    "    if not KO_move(test1):\n",
    "        attacking_list[key] = al[key]\n",
    "for key in dl.keys():\n",
    "    if key in valid_list:\n",
    "        defensive_list[key] = dl[key]\n",
    "print(attacking_list)\n",
    "print(defensive_list)\n",
    "print(liberty_list)\n",
    "print(valid_list)\n",
    "def find_move(board):    \n",
    "    for a in valid_list:\n",
    "            if board[2][2] == 0:\n",
    "                move = (2, 2)\n",
    "                return move\n",
    "            else:\n",
    "                if attacking_list:\n",
    "                    if defensive_list:\n",
    "                        if list(attacking_list.values())[0] >= list(defensive_list.values())[0]:\n",
    "                            move = list(attacking_list.keys())[0]\n",
    "                            return move\n",
    "                        else:\n",
    "                            move = list(defensive_list.keys())[0]\n",
    "                            return move\n",
    "                    else:\n",
    "                        move = list(attacking_list.keys())[0]\n",
    "                        return move\n",
    "\n",
    "                elif defensive_list:\n",
    "                    move = list(defensive_list.keys())[0]\n",
    "                    return move\n",
    "\n",
    "                elif liberty_list:\n",
    "                    if list(liberty_list.values())[0] > 0 or list(liberty_list.keys())[0] in valid_list:\n",
    "                        move = list(liberty_list.keys())[0]\n",
    "                        return move\n",
    "                else:\n",
    "                    return False\n"
   ]
  },
  {
   "cell_type": "code",
   "execution_count": 3011,
   "metadata": {},
   "outputs": [
    {
     "name": "stdout",
     "output_type": "stream",
     "text": [
      "0\n",
      "(0, 1)\n"
     ]
    }
   ],
   "source": [
    "test = deepcopy(curr_board)\n",
    "move = find_move(test)\n",
    "print(move)\n",
    "# if move:\n",
    "#     with open(\"./output.txt\", \"w\") as f:\n",
    "#         f.write('{},{}'.format(move[0],move[1]))\n",
    "# else:\n",
    "#     with open(\"./output.txt\", \"w\") as f:\n",
    "#         f.write('PASS')"
   ]
  },
  {
   "cell_type": "code",
   "execution_count": 2999,
   "metadata": {},
   "outputs": [],
   "source": [
    "# def alpha_beta(board, d, maxPlayer, a, b):\n",
    "    \n",
    "#     if d == 2:\n",
    "#         value = []    \n",
    "#         l = liberty_moves(curr_board)\n",
    "#         test = deepcopy(board)\n",
    "#         attacking_list, suicide_list, invalid_moves = calculate_liberty(test)\n",
    "#         liberty_list = dict( sorted(l.items(), key=operator.itemgetter(1), reverse=True))\n",
    "#         for a in invalid_moves:\n",
    "#             if a in attacking_list:\n",
    "#                 attacking_list.pop(a, None)\n",
    "#             if a in liberty_list:\n",
    "#                 liberty_list.pop(a, None)\n",
    "#         for i in range(5):\n",
    "#             for j in range(5):\n",
    "#                 if (i, j) not in invalid_moves:\n",
    "#                     if attacking_list:\n",
    "#                         value.append(list(attacking_list.values())[0])\n",
    "#                         value.append(list(attacking_list.keys())[0][0])\n",
    "#                         value.append(list(attacking_list.keys())[0][1])\n",
    "#                     else:\n",
    "#                         value.append(list(liberty_list.values())[0])\n",
    "#                         value.append(list(liberty_list.keys())[0][0])\n",
    "#                         value.append(list(liberty_list.keys())[0][1])\n",
    "#                 else:\n",
    "#                     value.append(-1)\n",
    "#                     value.append(-1)\n",
    "#                     value.append(-1)\n",
    "#         return value\n",
    "    \n",
    "#     if maxPlayer:\n",
    "#         best = []\n",
    "#         best.append(minimum)\n",
    "#         best.append(-1)\n",
    "#         best.append(-1)\n",
    "#         for i in range(5):\n",
    "#             for j in range(5):\n",
    "#                 if board[i][j] == 0:\n",
    "#                     board[i][j] = me\n",
    "#                     val = alpha_beta(board, d+1, False, a, b)\n",
    "#                     best[0] = max(best[0], val[0])\n",
    "#                     if best[0] == val[0]:\n",
    "#                         best[1] = val[1]\n",
    "#                         best[2] = val[2]\n",
    "#                     a = max(a, best[0])\n",
    "#                     if b <= a:\n",
    "#                         break\n",
    "#         return best\n",
    "    \n",
    "#     else:\n",
    "#         best = []\n",
    "#         best.append(maximum)\n",
    "#         best.append(-1)\n",
    "#         best.append(-1)\n",
    "#         for i in range(5):\n",
    "#             for j in range(5):\n",
    "#                 if board[i][j] == 0:\n",
    "#                     board[i][j] = 3-me\n",
    "#                     val = alpha_beta(board, d+1, True, a, b)\n",
    "#                     best[0] = min(best[0], val[0])\n",
    "#                     b = min(b, best[0])\n",
    "#                     if best[0] == val[0]:\n",
    "#                         best[1] = val[1]\n",
    "#                         best[2] = val[2]\n",
    "#                     if b <= a:\n",
    "#                         break\n",
    "#         return best            "
   ]
  },
  {
   "cell_type": "code",
   "execution_count": 3000,
   "metadata": {},
   "outputs": [],
   "source": [
    "# test = deepcopy(curr_board)\n",
    "# move = alpha_beta(test, 0, True, minimum, maximum)\n",
    "# if move:\n",
    "#     with open(\"./output.txt\", \"w\") as f:\n",
    "#         f.write('{},{}'.format(move[1],move[2]))\n",
    "# else:\n",
    "#     with open(\"./output.txt\", \"w\") as f:\n",
    "#         f.write('PASS')"
   ]
  },
  {
   "cell_type": "code",
   "execution_count": 3001,
   "metadata": {},
   "outputs": [],
   "source": [
    "# def rl_game(i, j):\n",
    "#     liberty_new = np.copy(liberty)\n",
    "#     options = []\n",
    "#     Q = np.array(np.zeros([5,5]))\n",
    "# #     for i in range(5):\n",
    "# #         for j in range(5):\n",
    "# #             if not place_validity(i, j):\n",
    "# #                 print\n",
    "# #             else:\n",
    "#     for i in range(1000):\n",
    "#         current_state = np.random.randint(0, 5)\n",
    "#         playable_actions = []\n",
    "        \n",
    "                    "
   ]
  },
  {
   "cell_type": "code",
   "execution_count": null,
   "metadata": {},
   "outputs": [],
   "source": []
  }
 ],
 "metadata": {
  "kernelspec": {
   "display_name": "Python 3",
   "language": "python",
   "name": "python3"
  },
  "language_info": {
   "codemirror_mode": {
    "name": "ipython",
    "version": 3
   },
   "file_extension": ".py",
   "mimetype": "text/x-python",
   "name": "python",
   "nbconvert_exporter": "python",
   "pygments_lexer": "ipython3",
   "version": "3.7.3"
  }
 },
 "nbformat": 4,
 "nbformat_minor": 2
}
